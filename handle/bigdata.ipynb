{
 "cells": [
  {
   "cell_type": "code",
   "execution_count": 1,
   "metadata": {
    "collapsed": false
   },
   "outputs": [
    {
     "name": "stdout",
     "output_type": "stream",
     "text": [
      "Looking in indexes: https://pypi.mirrors.ustc.edu.cn/simple/\n",
      "Collecting catboost\n",
      "\u001b[33m  WARNING: Retrying (Retry(total=4, connect=None, read=None, redirect=None, status=None)) after connection broken by 'ReadTimeoutError(\"HTTPSConnectionPool(host='pypi.mirrors.ustc.edu.cn', port=443): Read timed out. (read timeout=15)\")': /simple/catboost/\u001b[0m\n",
      "\u001b[?25l  Downloading https://mirrors.tuna.tsinghua.edu.cn/pypi/web/packages/05/82/6c3581379caa6b5f50214d210d9dfe648e3fa771892f348cbb4bba8c29a8/catboost-0.19.1-cp37-none-manylinux1_x86_64.whl (63.0MB)\n",
      "\u001b[K     |████████████████████████████████| 63.0MB 4.2MB/s eta 0:00:01\n",
      "\u001b[?25hRequirement already satisfied: graphviz in /opt/conda/envs/python35-paddle120-env/lib/python3.7/site-packages (from catboost) (0.13)\n",
      "Requirement already satisfied: matplotlib in /opt/conda/envs/python35-paddle120-env/lib/python3.7/site-packages (from catboost) (2.2.3)\n",
      "Requirement already satisfied: scipy in /opt/conda/envs/python35-paddle120-env/lib/python3.7/site-packages (from catboost) (1.3.0)\n",
      "Requirement already satisfied: numpy>=1.16.0 in /opt/conda/envs/python35-paddle120-env/lib/python3.7/site-packages (from catboost) (1.16.4)\n",
      "Requirement already satisfied: six in /opt/conda/envs/python35-paddle120-env/lib/python3.7/site-packages (from catboost) (1.12.0)\n",
      "Collecting pandas>=0.24.0 (from catboost)\n",
      "\u001b[?25l  Downloading https://mirrors.tuna.tsinghua.edu.cn/pypi/web/packages/63/e0/a1b39cdcb2c391f087a1538bc8a6d62a82d0439693192aef541d7b123769/pandas-0.25.3-cp37-cp37m-manylinux1_x86_64.whl (10.4MB)\n",
      "\u001b[K     |████████████████████████████████| 10.4MB 329kB/s eta 0:00:01\n",
      "\u001b[?25hCollecting plotly (from catboost)\n",
      "\u001b[33m  WARNING: Retrying (Retry(total=4, connect=None, read=None, redirect=None, status=None)) after connection broken by 'ReadTimeoutError(\"HTTPSConnectionPool(host='pypi.mirrors.ustc.edu.cn', port=443): Read timed out. (read timeout=15)\")': /simple/plotly/\u001b[0m\n",
      "\u001b[?25l  Downloading https://mirrors.tuna.tsinghua.edu.cn/pypi/web/packages/e3/67/eb2b2be7a63a66548abea92447fc04d9abf363520f1af6145c5f033cd1b3/plotly-4.3.0-py2.py3-none-any.whl (7.3MB)\n",
      "\u001b[K     |████████████████████████████████| 7.3MB 677kB/s eta 0:00:01\n",
      "\u001b[?25hRequirement already satisfied: kiwisolver>=1.0.1 in /opt/conda/envs/python35-paddle120-env/lib/python3.7/site-packages (from matplotlib->catboost) (1.1.0)\n",
      "Requirement already satisfied: python-dateutil>=2.1 in /opt/conda/envs/python35-paddle120-env/lib/python3.7/site-packages (from matplotlib->catboost) (2.8.0)\n",
      "Requirement already satisfied: pyparsing!=2.0.4,!=2.1.2,!=2.1.6,>=2.0.1 in /opt/conda/envs/python35-paddle120-env/lib/python3.7/site-packages (from matplotlib->catboost) (2.4.2)\n",
      "Requirement already satisfied: pytz in /opt/conda/envs/python35-paddle120-env/lib/python3.7/site-packages (from matplotlib->catboost) (2019.3)\n",
      "Requirement already satisfied: cycler>=0.10 in /opt/conda/envs/python35-paddle120-env/lib/python3.7/site-packages (from matplotlib->catboost) (0.10.0)\n",
      "Collecting retrying>=1.3.3 (from plotly->catboost)\n",
      "  Downloading https://mirrors.tuna.tsinghua.edu.cn/pypi/web/packages/44/ef/beae4b4ef80902f22e3af073397f079c96969c69b2c7d52a57ea9ae61c9d/retrying-1.3.3.tar.gz\n",
      "Requirement already satisfied: setuptools in /opt/conda/envs/python35-paddle120-env/lib/python3.7/site-packages (from kiwisolver>=1.0.1->matplotlib->catboost) (41.4.0)\n",
      "Building wheels for collected packages: retrying\n",
      "  Building wheel for retrying (setup.py) ... \u001b[?25ldone\n",
      "\u001b[?25h  Created wheel for retrying: filename=retrying-1.3.3-cp37-none-any.whl size=11429 sha256=d60eb0f9a0ce400fa6a74981138364e113f700e0a56dc95c851cbddaff5b79cb\n",
      "  Stored in directory: /home/aistudio/.cache/pip/wheels/4a/b7/7f/66e52d08955b288e3590645984c8e6fb1fc665754d722de6c6\n",
      "Successfully built retrying\n",
      "Installing collected packages: pandas, retrying, plotly, catboost\n",
      "  Found existing installation: pandas 0.23.4\n",
      "    Uninstalling pandas-0.23.4:\n",
      "      Successfully uninstalled pandas-0.23.4\n",
      "Successfully installed catboost-0.19.1 pandas-0.25.3 plotly-4.3.0 retrying-1.3.3\n"
     ]
    }
   ],
   "source": [
    "!pip install catboost"
   ]
  },
  {
   "cell_type": "code",
   "execution_count": 2,
   "metadata": {
    "collapsed": false
   },
   "outputs": [],
   "source": [
    "import pandas as pd\r\n",
    "import numpy as np\r\n",
    "import catboost as cat\r\n",
    "from sklearn.metrics import roc_auc_score\r\n",
    "from sklearn.model_selection import GridSearchCV, train_test_split, StratifiedKFold\r\n",
    "from sklearn.preprocessing import LabelEncoder, OneHotEncoder, MinMaxScaler\r\n",
    "import time\r\n",
    "from collections import Counter\r\n",
    "\r\n",
    "SEED = 2019"
   ]
  },
  {
   "cell_type": "markdown",
   "metadata": {
    "collapsed": false
   },
   "source": [
    "#### 加载数据"
   ]
  },
  {
   "cell_type": "code",
   "execution_count": 3,
   "metadata": {
    "collapsed": false
   },
   "outputs": [],
   "source": [
    "train_data = pd.read_csv('train.csv')\n",
    "label_data = pd.read_csv('train_label.csv')\n",
    "test_data = pd.read_csv('test.csv')\n",
    "submit = pd.read_csv('submission.csv')"
   ]
  },
  {
   "cell_type": "code",
   "execution_count": 4,
   "metadata": {
    "collapsed": false
   },
   "outputs": [],
   "source": [
    "data = train_data.append(test_data)"
   ]
  },
  {
   "cell_type": "markdown",
   "metadata": {
    "collapsed": false
   },
   "source": [
    "#### 数据分析"
   ]
  },
  {
   "cell_type": "code",
   "execution_count": 5,
   "metadata": {
    "collapsed": false
   },
   "outputs": [
    {
     "data": {
      "text/html": [
       "<div>\n",
       "<style scoped>\n",
       "    .dataframe tbody tr th:only-of-type {\n",
       "        vertical-align: middle;\n",
       "    }\n",
       "\n",
       "    .dataframe tbody tr th {\n",
       "        vertical-align: top;\n",
       "    }\n",
       "\n",
       "    .dataframe thead th {\n",
       "        text-align: right;\n",
       "    }\n",
       "</style>\n",
       "<table border=\"1\" class=\"dataframe\">\n",
       "  <thead>\n",
       "    <tr style=\"text-align: right;\">\n",
       "      <th></th>\n",
       "      <th>ID</th>\n",
       "      <th>date</th>\n",
       "      <th>A1</th>\n",
       "      <th>A2</th>\n",
       "      <th>A3</th>\n",
       "      <th>B1</th>\n",
       "      <th>B2</th>\n",
       "      <th>B3</th>\n",
       "      <th>C1</th>\n",
       "      <th>C2</th>\n",
       "      <th>...</th>\n",
       "      <th>E20</th>\n",
       "      <th>E21</th>\n",
       "      <th>E22</th>\n",
       "      <th>E23</th>\n",
       "      <th>E24</th>\n",
       "      <th>E25</th>\n",
       "      <th>E26</th>\n",
       "      <th>E27</th>\n",
       "      <th>E28</th>\n",
       "      <th>E29</th>\n",
       "    </tr>\n",
       "  </thead>\n",
       "  <tbody>\n",
       "    <tr>\n",
       "      <th>0</th>\n",
       "      <td>0</td>\n",
       "      <td>1900-07-01 23:30:00</td>\n",
       "      <td>-7834936860748470404</td>\n",
       "      <td>2998835353230292833</td>\n",
       "      <td>-7494990137288550401</td>\n",
       "      <td>-8639208079192601888</td>\n",
       "      <td>8626319289109649330</td>\n",
       "      <td>-5533056078568352733</td>\n",
       "      <td>-2379289153703677865</td>\n",
       "      <td>-6705654019294684257</td>\n",
       "      <td>...</td>\n",
       "      <td>0</td>\n",
       "      <td>0.266158</td>\n",
       "      <td>-1.600320</td>\n",
       "      <td>19</td>\n",
       "      <td>14</td>\n",
       "      <td>0</td>\n",
       "      <td>10</td>\n",
       "      <td>8</td>\n",
       "      <td>10</td>\n",
       "      <td>22</td>\n",
       "    </tr>\n",
       "    <tr>\n",
       "      <th>1</th>\n",
       "      <td>2</td>\n",
       "      <td>1900-07-01 23:30:00</td>\n",
       "      <td>5078873087020104664</td>\n",
       "      <td>544983809622051205</td>\n",
       "      <td>5835254758531463848</td>\n",
       "      <td>-8639208079192601888</td>\n",
       "      <td>8626319289109649330</td>\n",
       "      <td>-5533056078568352733</td>\n",
       "      <td>2501940309998358162</td>\n",
       "      <td>-6705654019294684257</td>\n",
       "      <td>...</td>\n",
       "      <td>0</td>\n",
       "      <td>0.266158</td>\n",
       "      <td>-1.600320</td>\n",
       "      <td>17</td>\n",
       "      <td>14</td>\n",
       "      <td>0</td>\n",
       "      <td>10</td>\n",
       "      <td>6</td>\n",
       "      <td>10</td>\n",
       "      <td>20</td>\n",
       "    </tr>\n",
       "    <tr>\n",
       "      <th>2</th>\n",
       "      <td>3</td>\n",
       "      <td>1900-07-01 23:30:00</td>\n",
       "      <td>-6322717615964561015</td>\n",
       "      <td>5363506900520348449</td>\n",
       "      <td>-1424055534205623346</td>\n",
       "      <td>-8639208079192601888</td>\n",
       "      <td>8626319289109649330</td>\n",
       "      <td>-5533056078568352733</td>\n",
       "      <td>1444408531941919970</td>\n",
       "      <td>-6705654019294684257</td>\n",
       "      <td>...</td>\n",
       "      <td>0</td>\n",
       "      <td>0.266158</td>\n",
       "      <td>0.619259</td>\n",
       "      <td>17</td>\n",
       "      <td>6</td>\n",
       "      <td>0</td>\n",
       "      <td>4</td>\n",
       "      <td>6</td>\n",
       "      <td>4</td>\n",
       "      <td>20</td>\n",
       "    </tr>\n",
       "    <tr>\n",
       "      <th>3</th>\n",
       "      <td>5</td>\n",
       "      <td>1900-07-01 23:30:00</td>\n",
       "      <td>4650039790794677128</td>\n",
       "      <td>2774817855788439768</td>\n",
       "      <td>9040931202870639290</td>\n",
       "      <td>-8639208079192601888</td>\n",
       "      <td>8626319289109649330</td>\n",
       "      <td>-5533056078568352733</td>\n",
       "      <td>3524367011807253962</td>\n",
       "      <td>-6705654019294684257</td>\n",
       "      <td>...</td>\n",
       "      <td>1</td>\n",
       "      <td>0.266158</td>\n",
       "      <td>0.619259</td>\n",
       "      <td>17</td>\n",
       "      <td>6</td>\n",
       "      <td>0</td>\n",
       "      <td>4</td>\n",
       "      <td>2</td>\n",
       "      <td>4</td>\n",
       "      <td>20</td>\n",
       "    </tr>\n",
       "    <tr>\n",
       "      <th>4</th>\n",
       "      <td>7</td>\n",
       "      <td>1900-07-01 23:30:00</td>\n",
       "      <td>-6322717615964561015</td>\n",
       "      <td>5363506900520348449</td>\n",
       "      <td>-1424055534205623346</td>\n",
       "      <td>-8639208079192601888</td>\n",
       "      <td>8626319289109649330</td>\n",
       "      <td>-5533056078568352733</td>\n",
       "      <td>2472798206889362914</td>\n",
       "      <td>-6705654019294684257</td>\n",
       "      <td>...</td>\n",
       "      <td>0</td>\n",
       "      <td>0.266158</td>\n",
       "      <td>0.619259</td>\n",
       "      <td>17</td>\n",
       "      <td>6</td>\n",
       "      <td>0</td>\n",
       "      <td>4</td>\n",
       "      <td>6</td>\n",
       "      <td>4</td>\n",
       "      <td>20</td>\n",
       "    </tr>\n",
       "  </tbody>\n",
       "</table>\n",
       "<p>5 rows × 42 columns</p>\n",
       "</div>"
      ],
      "text/plain": [
       "   ID                 date                   A1                   A2  \\\n",
       "0   0  1900-07-01 23:30:00 -7834936860748470404  2998835353230292833   \n",
       "1   2  1900-07-01 23:30:00  5078873087020104664   544983809622051205   \n",
       "2   3  1900-07-01 23:30:00 -6322717615964561015  5363506900520348449   \n",
       "3   5  1900-07-01 23:30:00  4650039790794677128  2774817855788439768   \n",
       "4   7  1900-07-01 23:30:00 -6322717615964561015  5363506900520348449   \n",
       "\n",
       "                    A3                   B1                   B2  \\\n",
       "0 -7494990137288550401 -8639208079192601888  8626319289109649330   \n",
       "1  5835254758531463848 -8639208079192601888  8626319289109649330   \n",
       "2 -1424055534205623346 -8639208079192601888  8626319289109649330   \n",
       "3  9040931202870639290 -8639208079192601888  8626319289109649330   \n",
       "4 -1424055534205623346 -8639208079192601888  8626319289109649330   \n",
       "\n",
       "                    B3                   C1                   C2  ...  E20  \\\n",
       "0 -5533056078568352733 -2379289153703677865 -6705654019294684257  ...    0   \n",
       "1 -5533056078568352733  2501940309998358162 -6705654019294684257  ...    0   \n",
       "2 -5533056078568352733  1444408531941919970 -6705654019294684257  ...    0   \n",
       "3 -5533056078568352733  3524367011807253962 -6705654019294684257  ...    1   \n",
       "4 -5533056078568352733  2472798206889362914 -6705654019294684257  ...    0   \n",
       "\n",
       "        E21       E22  E23  E24  E25  E26  E27  E28  E29  \n",
       "0  0.266158 -1.600320   19   14    0   10    8   10   22  \n",
       "1  0.266158 -1.600320   17   14    0   10    6   10   20  \n",
       "2  0.266158  0.619259   17    6    0    4    6    4   20  \n",
       "3  0.266158  0.619259   17    6    0    4    2    4   20  \n",
       "4  0.266158  0.619259   17    6    0    4    6    4   20  \n",
       "\n",
       "[5 rows x 42 columns]"
      ]
     },
     "execution_count": 5,
     "metadata": {},
     "output_type": "execute_result"
    }
   ],
   "source": [
    "data.head()"
   ]
  },
  {
   "cell_type": "markdown",
   "metadata": {
    "collapsed": false
   },
   "source": [
    "##### 抽取时间特征更多信息"
   ]
  },
  {
   "cell_type": "code",
   "execution_count": 6,
   "metadata": {
    "collapsed": false
   },
   "outputs": [],
   "source": [
    "def twosplit(x):\n",
    "    times = int(x.split(' ')[-1].split(':')[0])\n",
    "    if times >= 6 and times < 18: #白天\n",
    "        return 0\n",
    "    else: # 晚上\n",
    "        return 1\n",
    "def foursplit(x):\n",
    "    times = int(x.split(' ')[-1].split(':')[0])\n",
    "    if times >= 0 and times < 6: # 凌晨\n",
    "        return 0\n",
    "    elif times >= 6 and times < 12: # 上午\n",
    "        return 1\n",
    "    elif times >= 12 and times < 18: # 下午\n",
    "        return 2\n",
    "    else: # 晚上\n",
    "        return 3\n",
    "def countTime(x):\n",
    "    day = int(x.split(' ')[0].split('-')[-1])\n",
    "    hour = int(x.split(' ')[1].split(':')[0])\n",
    "    minute = int(x.split(' ')[1].split(':')[1])\n",
    "    return (day-1)*24*60 + hour*60 + minute\n",
    "def genData(train_data=train_data):\n",
    "    train_data['hours'] = train_data['date'].apply(lambda x:int(x.split(' ')[1].split(':')[0])*60+int(x.split(' ')[1].split(':')[1]))\n",
    "    train_data['twosplit'] = train_data['date'].apply(twosplit)\n",
    "    train_data['foursplit'] = train_data['date'].apply(foursplit)\n",
    "    train_data['tobegin'] = train_data['date'].apply(lambda x:int(x.split(' ')[0].split('-')[-1]))\n",
    "    train_data['toend'] = train_data['date'].apply(lambda x:12-int(x.split(' ')[0].split('-')[-1]))\n",
    "    train_data['nowhour'] = train_data['date'].apply(lambda x:int(x.split(' ')[1].split(':')[0]))\n",
    "    train_data['time'] = train_data['date'].apply(countTime)\n",
    "    train_data['date'] = pd.to_datetime(train_data['date'])\n",
    "    train_data['dayofweek'] = train_data['date'].dt.dayofweek\n",
    "    train_data = train_data.drop(columns=['date'])\n",
    "    \n",
    "    return train_data"
   ]
  },
  {
   "cell_type": "code",
   "execution_count": 7,
   "metadata": {
    "collapsed": false
   },
   "outputs": [],
   "source": [
    "def newIdea(dataset,data=data):\n",
    "    items = {}\n",
    "    for col in ['A1','A2','A3','B1','B2','B3','C1','C2','C3']:\n",
    "        items[col] = dict(Counter(data[col]))\n",
    "    for col in ['A1','A2','A3','B1','B2','B3','C1','C2','C3']:\n",
    "        dataset[col+'_rate'] = dataset[col].apply(lambda x: items[col][x]/dataset.shape[0])\n",
    "        \n",
    "    return dataset\n",
    "    "
   ]
  },
  {
   "cell_type": "code",
   "execution_count": 8,
   "metadata": {
    "collapsed": false
   },
   "outputs": [],
   "source": [
    "def newFeature(data):\r\n",
    "    dataset = data.copy()\r\n",
    "#     dataset = genLabelCode(dataset)\r\n",
    "#     dataset = minMaxCode(dataset)\r\n",
    "    dataset = genData(dataset)\r\n",
    "    return dataset"
   ]
  },
  {
   "cell_type": "code",
   "execution_count": 9,
   "metadata": {
    "collapsed": false
   },
   "outputs": [],
   "source": [
    "train = newIdea(newFeature(train_data))\n",
    "test = newIdea(newFeature(test_data))"
   ]
  },
  {
   "cell_type": "markdown",
   "metadata": {
    "collapsed": false
   },
   "source": [
    "#### 建模及调优"
   ]
  },
  {
   "cell_type": "code",
   "execution_count": 10,
   "metadata": {
    "collapsed": false
   },
   "outputs": [
    {
     "name": "stdout",
     "output_type": "stream",
     "text": [
      "ID 60000 [37572]\n",
      "- - - - - - - - - - - - - - - - - - - -\n",
      "A1 18 [-7834936860748470404]\n",
      "- - - - - - - - - - - - - - - - - - - -\n",
      "A2 1262 [-5113814731114783375]\n",
      "- - - - - - - - - - - - - - - - - - - -\n",
      "A3 1102 [4726371201102088294]\n",
      "- - - - - - - - - - - - - - - - - - - -\n",
      "B1 23 [-8639208079192601888]\n",
      "- - - - - - - - - - - - - - - - - - - -\n",
      "B2 1049 [8626319289109649330]\n",
      "- - - - - - - - - - - - - - - - - - - -\n",
      "B3 74 [-5533056078568352733]\n",
      "- - - - - - - - - - - - - - - - - - - -\n",
      "C1 2702 [-2947615628225792381]\n",
      "- - - - - - - - - - - - - - - - - - - -\n",
      "C2 10191 [-6705654019294684257]\n",
      "- - - - - - - - - - - - - - - - - - - -\n",
      "C3 48997 [-770589883107948110]\n",
      "- - - - - - - - - - - - - - - - - - - -\n",
      "D1 4 [0]\n",
      "- - - - - - - - - - - - - - - - - - - -\n",
      "D2 3 [0]\n",
      "- - - - - - - - - - - - - - - - - - - -\n",
      "E1 391 [3]\n",
      "- - - - - - - - - - - - - - - - - - - -\n",
      "E2 23 [0.23124198]\n",
      "- - - - - - - - - - - - - - - - - - - -\n",
      "E3 8 [0.27176194]\n",
      "- - - - - - - - - - - - - - - - - - - -\n",
      "E4 4 [1]\n",
      "- - - - - - - - - - - - - - - - - - - -\n",
      "E5 27 [0.24089208]\n",
      "- - - - - - - - - - - - - - - - - - - -\n",
      "E6 63 [2]\n",
      "- - - - - - - - - - - - - - - - - - - -\n",
      "E7 26 [-0.87411046]\n",
      "- - - - - - - - - - - - - - - - - - - -\n",
      "E8 5 [0]\n",
      "- - - - - - - - - - - - - - - - - - - -\n",
      "E9 4 [0.13458765]\n",
      "- - - - - - - - - - - - - - - - - - - -\n",
      "E10 12 [-1.13992644]\n",
      "- - - - - - - - - - - - - - - - - - - -\n",
      "E11 4 [1]\n",
      "- - - - - - - - - - - - - - - - - - - -\n",
      "E12 12 [1]\n",
      "- - - - - - - - - - - - - - - - - - - -\n",
      "E13 7 [0.24370538]\n",
      "- - - - - - - - - - - - - - - - - - - -\n",
      "E14 1565 [11]\n",
      "- - - - - - - - - - - - - - - - - - - -\n",
      "E15 10 [6]\n",
      "- - - - - - - - - - - - - - - - - - - -\n",
      "E16 5 [0.29472416]\n",
      "- - - - - - - - - - - - - - - - - - - -\n",
      "E17 14 [-1.15507264]\n",
      "- - - - - - - - - - - - - - - - - - - -\n",
      "E18 9 [0]\n",
      "- - - - - - - - - - - - - - - - - - - -\n",
      "E19 17 [-1.13269037]\n",
      "- - - - - - - - - - - - - - - - - - - -\n",
      "E20 151 [5]\n",
      "- - - - - - - - - - - - - - - - - - - -\n",
      "E21 6 [0.26615787]\n",
      "- - - - - - - - - - - - - - - - - - - -\n",
      "E22 4 [-1.60031968]\n",
      "- - - - - - - - - - - - - - - - - - - -\n",
      "E23 27 [20]\n",
      "- - - - - - - - - - - - - - - - - - - -\n",
      "E24 21 [14]\n",
      "- - - - - - - - - - - - - - - - - - - -\n",
      "E25 8 [0]\n",
      "- - - - - - - - - - - - - - - - - - - -\n",
      "E26 17 [10]\n",
      "- - - - - - - - - - - - - - - - - - - -\n",
      "E27 60 [0]\n",
      "- - - - - - - - - - - - - - - - - - - -\n",
      "E28 35 [10]\n",
      "- - - - - - - - - - - - - - - - - - - -\n",
      "E29 31 [23]\n",
      "- - - - - - - - - - - - - - - - - - - -\n",
      "hours 24 [690]\n",
      "- - - - - - - - - - - - - - - - - - - -\n",
      "twosplit 2 [0]\n",
      "- - - - - - - - - - - - - - - - - - - -\n",
      "foursplit 4 [1]\n",
      "- - - - - - - - - - - - - - - - - - - -\n",
      "tobegin 11 [5]\n",
      "- - - - - - - - - - - - - - - - - - - -\n",
      "toend 11 [7]\n",
      "- - - - - - - - - - - - - - - - - - - -\n",
      "nowhour 24 [11]\n",
      "- - - - - - - - - - - - - - - - - - - -\n",
      "time 240 [6450]\n",
      "- - - - - - - - - - - - - - - - - - - -\n",
      "dayofweek 7 [3]\n",
      "- - - - - - - - - - - - - - - - - - - -\n",
      "A1_rate 17 [0.52163333]\n",
      "- - - - - - - - - - - - - - - - - - - -\n",
      "A2_rate 142 [0.03201667]\n",
      "- - - - - - - - - - - - - - - - - - - -\n",
      "A3_rate 130 [0.03498333]\n",
      "- - - - - - - - - - - - - - - - - - - -\n",
      "B1_rate 20 [1.07525]\n",
      "- - - - - - - - - - - - - - - - - - - -\n",
      "B2_rate 117 [1.06193333]\n",
      "- - - - - - - - - - - - - - - - - - - -\n",
      "B3_rate 39 [1.11851667]\n",
      "- - - - - - - - - - - - - - - - - - - -\n",
      "C1_rate 224 [0.01655]\n",
      "- - - - - - - - - - - - - - - - - - - -\n",
      "C2_rate 14 [1.37618333]\n",
      "- - - - - - - - - - - - - - - - - - - -\n",
      "C3_rate 72 [1.66666667e-05]\n",
      "- - - - - - - - - - - - - - - - - - - -\n"
     ]
    }
   ],
   "source": [
    "sample = train.sample(1)\r\n",
    "for col in list(train.columns):\r\n",
    "    print(col, len(set(train[col])), sample[col].values)\r\n",
    "    print('- - - - - - - - - - - - - - - - - - - -')"
   ]
  },
  {
   "cell_type": "code",
   "execution_count": 13,
   "metadata": {
    "collapsed": false
   },
   "outputs": [],
   "source": [
    "cat_features = ['ID','A1','A2','A3','B1','B2','B3','C1','C2','C3','D1','D2','E4','E23','E24','E25','E26','E6','E8','E11','E12','E15','E18','E27','E28','E29','twosplit','foursplit','dayofweek']\n",
    "# cat_features = ['ID','A1','A2','A3','B1','B2','B3','C1','C2','C3','D1','D2','twosplit','foursplit','dayofweek']"
   ]
  },
  {
   "cell_type": "code",
   "execution_count": 14,
   "metadata": {
    "collapsed": false
   },
   "outputs": [],
   "source": [
    "def KfoldResult(train=train,label=label_data.values[:,1],cat_features=cat_features):\n",
    "    fold = StratifiedKFold(n_splits=20,shuffle=True)\n",
    "    best_score = 0\n",
    "    results = []\n",
    "    best_result = []\n",
    "    scores = []\n",
    "    good_result = []\n",
    "    preds = []\n",
    "    models = []\n",
    "    i = 0\n",
    "    for train_index, valid_index in fold.split(train,label_data.values[:,1]):\n",
    "        print('第',str(i),'个Fold')\n",
    "        i += 1\n",
    "        train_x,valid_x,train_y,valid_y = train.iloc[train_index],train.iloc[valid_index],label[train_index],label[valid_index]\n",
    "        eval_set = cat.Pool(data=valid_x,label=valid_y,cat_features=cat_features)\n",
    "        model = cat.CatBoostClassifier(iterations=5000, learning_rate=0.01, depth=9, loss_function='Logloss', eval_metric='AUC')\n",
    "        model.fit(train_x,train_y,use_best_model=True,eval_set=eval_set,cat_features=cat_features,early_stopping_rounds=50)\n",
    "        pred = model.predict_proba(test)[:,1]\n",
    "        results.append(pred)\n",
    "        preds.append(pred)\n",
    "        scores.append(model.best_score_['validation']['AUC'])\n",
    "        models.append(model)\n",
    "        if model.best_score_['validation']['AUC'] > best_score:\n",
    "            best_result = pred\n",
    "        if model.best_score_['validation']['AUC'] > 0.730:\n",
    "            good_result.append(pred)\n",
    "    results = np.array(results).mean(axis=0)\n",
    "    good_result = np.array(good_result).mean(axis=0)\n",
    "    return models,scores,preds,results,best_result,good_result"
   ]
  },
  {
   "cell_type": "code",
   "execution_count": 15,
   "metadata": {
    "collapsed": false
   },
   "outputs": [
    {
     "name": "stdout",
     "output_type": "stream",
     "text": [
      "Shrink model to first 809 iterations.\r"
     ]
    }
   ],
   "source": [
    "model,scores,preds,results,best_result,good_result = KfoldResult()"
   ]
  },
  {
   "cell_type": "code",
   "execution_count": 16,
   "metadata": {
    "collapsed": false
   },
   "outputs": [
    {
     "data": {
      "text/plain": [
       "[0.7179721924496845,\n",
       " 0.7466051472016948,\n",
       " 0.7318653905216775,\n",
       " 0.7379503488087851,\n",
       " 0.7431142138514871,\n",
       " 0.7433222436444935,\n",
       " 0.7446194860329582,\n",
       " 0.7173856385651125,\n",
       " 0.7072883434234325,\n",
       " 0.7375590333601286,\n",
       " 0.7419892829330788,\n",
       " 0.7168322008139068,\n",
       " 0.7390525302702975,\n",
       " 0.7424128001909164,\n",
       " 0.737493091840836,\n",
       " 0.7126327465584807,\n",
       " 0.7400199788902292,\n",
       " 0.7261961418124245,\n",
       " 0.7253872480649377,\n",
       " 0.7433674639374749]"
      ]
     },
     "execution_count": 16,
     "metadata": {},
     "output_type": "execute_result"
    }
   ],
   "source": [
    "# model,scores,preds,results,best_result,good_result\n",
    "scores"
   ]
  },
  {
   "cell_type": "code",
   "execution_count": 18,
   "metadata": {
    "collapsed": false
   },
   "outputs": [],
   "source": [
    "best = []\n",
    "best.append(preds[1])\n",
    "best.append(preds[4])\n",
    "best.append(preds[5])\n",
    "best.append(preds[6])\n",
    "best.append(preds[10])\n",
    "best.append(preds[13])\n",
    "best.append(preds[16])\n",
    "best.append(preds[19])\n",
    "best = np.array(best).mean(axis=0)"
   ]
  },
  {
   "cell_type": "code",
   "execution_count": 19,
   "metadata": {
    "collapsed": false
   },
   "outputs": [
    {
     "data": {
      "text/plain": [
       "array([0.20812583, 0.08974861, 0.21713247, ..., 0.20918973, 0.15091132,\n",
       "       0.24041759])"
      ]
     },
     "execution_count": 19,
     "metadata": {},
     "output_type": "execute_result"
    }
   ],
   "source": [
    "best"
   ]
  },
  {
   "cell_type": "code",
   "execution_count": 20,
   "metadata": {
    "collapsed": false
   },
   "outputs": [],
   "source": [
    "submit['label'] = best\r\n",
    "submit.to_csv('result_'+time.strftime('%Y%m%d%H%M%S_best.csv',time.localtime(time.time())),index=False)"
   ]
  },
  {
   "cell_type": "code",
   "execution_count": 27,
   "metadata": {
    "collapsed": false
   },
   "outputs": [],
   "source": [
    "submit['label'] = good_result\r\n",
    "submit.to_csv('result_'+time.strftime('%Y%m%d%H%M%S_good.csv',time.localtime(time.time())),index=False)"
   ]
  },
  {
   "cell_type": "code",
   "execution_count": 17,
   "metadata": {
    "collapsed": false
   },
   "outputs": [],
   "source": [
    "submit['label'] = results\r\n",
    "submit.to_csv('result_'+time.strftime('%Y%m%d%H%M%S_fold.csv',time.localtime(time.time())),index=False)"
   ]
  },
  {
   "cell_type": "code",
   "execution_count": null,
   "metadata": {
    "collapsed": false
   },
   "outputs": [
    {
     "data": {
      "text/plain": [
       "array([0.21496435, 0.07887437, 0.28513194, ..., 0.23130214, 0.14291014,\n",
       "       0.24300127])"
      ]
     },
     "execution_count": null,
     "metadata": {},
     "output_type": "execute_result"
    }
   ],
   "source": [
    "best_result"
   ]
  },
  {
   "cell_type": "code",
   "execution_count": null,
   "metadata": {
    "collapsed": false
   },
   "outputs": [],
   "source": [
    "train_x,valid_x,train_y,valid_y = train_test_split(train,label_data.values[:,1],test_size=0.1,stratify=label_data.values[:,1],random_state=SEED)"
   ]
  },
  {
   "cell_type": "markdown",
   "metadata": {
    "collapsed": false
   },
   "source": [
    "#### 建模及调优"
   ]
  },
  {
   "cell_type": "code",
   "execution_count": null,
   "metadata": {
    "collapsed": false
   },
   "outputs": [],
   "source": [
    "model = cat.CatBoostClassifier(iterations=100, learning_rate=0.01, depth=9, loss_function='Logloss', eval_metric='AUC', random_state=SEED)"
   ]
  },
  {
   "cell_type": "code",
   "execution_count": null,
   "metadata": {
    "collapsed": false
   },
   "outputs": [],
   "source": [
    "eval_set = cat.Pool(data=valid_x,label=valid_y,cat_features=cat_features)"
   ]
  },
  {
   "cell_type": "code",
   "execution_count": null,
   "metadata": {
    "collapsed": false
   },
   "outputs": [
    {
     "name": "stdout",
     "output_type": "stream",
     "text": [
      "0:\ttest: 0.6247346\tbest: 0.6247346 (0)\ttotal: 129ms\tremaining: 12.8s\n",
      "1:\ttest: 0.6490826\tbest: 0.6490826 (1)\ttotal: 305ms\tremaining: 14.9s\n",
      "2:\ttest: 0.6503736\tbest: 0.6503736 (2)\ttotal: 414ms\tremaining: 13.4s\n",
      "3:\ttest: 0.6504741\tbest: 0.6504741 (3)\ttotal: 508ms\tremaining: 12.2s\n",
      "4:\ttest: 0.6501860\tbest: 0.6504741 (3)\ttotal: 621ms\tremaining: 11.8s\n",
      "5:\ttest: 0.6574598\tbest: 0.6574598 (5)\ttotal: 726ms\tremaining: 11.4s\n",
      "6:\ttest: 0.6598538\tbest: 0.6598538 (6)\ttotal: 825ms\tremaining: 11s\n",
      "7:\ttest: 0.6649978\tbest: 0.6649978 (7)\ttotal: 998ms\tremaining: 11.5s\n",
      "8:\ttest: 0.6648806\tbest: 0.6649978 (7)\ttotal: 1.1s\tremaining: 11.1s\n",
      "9:\ttest: 0.6861583\tbest: 0.6861583 (9)\ttotal: 1.3s\tremaining: 11.7s\n",
      "10:\ttest: 0.6890962\tbest: 0.6890962 (10)\ttotal: 1.41s\tremaining: 11.4s\n",
      "11:\ttest: 0.6886454\tbest: 0.6890962 (10)\ttotal: 1.51s\tremaining: 11.1s\n",
      "12:\ttest: 0.6923022\tbest: 0.6923022 (12)\ttotal: 1.7s\tremaining: 11.4s\n",
      "13:\ttest: 0.6933240\tbest: 0.6933240 (13)\ttotal: 1.81s\tremaining: 11.1s\n",
      "14:\ttest: 0.6935182\tbest: 0.6935182 (14)\ttotal: 2s\tremaining: 11.4s\n",
      "15:\ttest: 0.6984621\tbest: 0.6984621 (15)\ttotal: 2.12s\tremaining: 11.1s\n",
      "16:\ttest: 0.7082396\tbest: 0.7082396 (16)\ttotal: 2.23s\tremaining: 10.9s\n",
      "17:\ttest: 0.7078006\tbest: 0.7082396 (16)\ttotal: 2.31s\tremaining: 10.5s\n",
      "18:\ttest: 0.7088805\tbest: 0.7088805 (18)\ttotal: 2.42s\tremaining: 10.3s\n",
      "19:\ttest: 0.7092128\tbest: 0.7092128 (19)\ttotal: 2.51s\tremaining: 10s\n",
      "20:\ttest: 0.7096542\tbest: 0.7096542 (20)\ttotal: 2.59s\tremaining: 9.76s\n",
      "21:\ttest: 0.7115802\tbest: 0.7115802 (21)\ttotal: 2.71s\tremaining: 9.6s\n",
      "22:\ttest: 0.7101001\tbest: 0.7115802 (21)\ttotal: 2.8s\tremaining: 9.36s\n",
      "23:\ttest: 0.7102901\tbest: 0.7115802 (21)\ttotal: 2.91s\tremaining: 9.21s\n",
      "24:\ttest: 0.7109821\tbest: 0.7115802 (21)\ttotal: 3.1s\tremaining: 9.31s\n",
      "25:\ttest: 0.7109612\tbest: 0.7115802 (21)\ttotal: 3.2s\tremaining: 9.12s\n",
      "26:\ttest: 0.7106319\tbest: 0.7115802 (21)\ttotal: 3.31s\tremaining: 8.96s\n",
      "27:\ttest: 0.7112680\tbest: 0.7115802 (21)\ttotal: 3.49s\tremaining: 8.97s\n",
      "28:\ttest: 0.7111473\tbest: 0.7115802 (21)\ttotal: 3.6s\tremaining: 8.81s\n",
      "29:\ttest: 0.7107485\tbest: 0.7115802 (21)\ttotal: 3.69s\tremaining: 8.61s\n",
      "30:\ttest: 0.7117321\tbest: 0.7117321 (30)\ttotal: 3.8s\tremaining: 8.45s\n",
      "31:\ttest: 0.7117080\tbest: 0.7117321 (30)\ttotal: 3.89s\tremaining: 8.26s\n",
      "32:\ttest: 0.7132598\tbest: 0.7132598 (32)\ttotal: 3.99s\tremaining: 8.11s\n",
      "33:\ttest: 0.7130457\tbest: 0.7132598 (32)\ttotal: 4.1s\tremaining: 7.96s\n",
      "34:\ttest: 0.7138467\tbest: 0.7138467 (34)\ttotal: 4.21s\tremaining: 7.82s\n",
      "35:\ttest: 0.7139097\tbest: 0.7139097 (35)\ttotal: 4.29s\tremaining: 7.63s\n",
      "36:\ttest: 0.7168230\tbest: 0.7168230 (36)\ttotal: 4.41s\tremaining: 7.5s\n",
      "37:\ttest: 0.7162658\tbest: 0.7168230 (36)\ttotal: 4.5s\tremaining: 7.35s\n",
      "38:\ttest: 0.7164709\tbest: 0.7168230 (36)\ttotal: 4.6s\tremaining: 7.19s\n",
      "39:\ttest: 0.7167013\tbest: 0.7168230 (36)\ttotal: 4.69s\tremaining: 7.03s\n",
      "40:\ttest: 0.7173383\tbest: 0.7173383 (40)\ttotal: 4.79s\tremaining: 6.9s\n",
      "41:\ttest: 0.7174098\tbest: 0.7174098 (41)\ttotal: 4.88s\tremaining: 6.75s\n",
      "42:\ttest: 0.7174856\tbest: 0.7174856 (42)\ttotal: 4.91s\tremaining: 6.5s\n",
      "43:\ttest: 0.7187539\tbest: 0.7187539 (43)\ttotal: 5.08s\tremaining: 6.46s\n",
      "44:\ttest: 0.7191342\tbest: 0.7191342 (44)\ttotal: 5.18s\tremaining: 6.33s\n",
      "45:\ttest: 0.7192042\tbest: 0.7192042 (45)\ttotal: 5.21s\tremaining: 6.11s\n",
      "46:\ttest: 0.7194506\tbest: 0.7194506 (46)\ttotal: 5.3s\tremaining: 5.98s\n",
      "47:\ttest: 0.7194126\tbest: 0.7194506 (46)\ttotal: 5.39s\tremaining: 5.84s\n",
      "48:\ttest: 0.7201923\tbest: 0.7201923 (48)\ttotal: 5.48s\tremaining: 5.7s\n",
      "49:\ttest: 0.7200987\tbest: 0.7201923 (48)\ttotal: 5.58s\tremaining: 5.58s\n",
      "50:\ttest: 0.7196643\tbest: 0.7201923 (48)\ttotal: 5.69s\tremaining: 5.46s\n",
      "51:\ttest: 0.7205309\tbest: 0.7205309 (51)\ttotal: 5.79s\tremaining: 5.35s\n",
      "52:\ttest: 0.7211216\tbest: 0.7211216 (52)\ttotal: 5.9s\tremaining: 5.23s\n",
      "53:\ttest: 0.7209833\tbest: 0.7211216 (52)\ttotal: 5.99s\tremaining: 5.1s\n",
      "54:\ttest: 0.7207509\tbest: 0.7211216 (52)\ttotal: 6.08s\tremaining: 4.97s\n",
      "55:\ttest: 0.7211578\tbest: 0.7211578 (55)\ttotal: 6.19s\tremaining: 4.86s\n",
      "56:\ttest: 0.7208103\tbest: 0.7211578 (55)\ttotal: 6.28s\tremaining: 4.74s\n",
      "57:\ttest: 0.7208953\tbest: 0.7211578 (55)\ttotal: 6.31s\tremaining: 4.57s\n",
      "58:\ttest: 0.7207835\tbest: 0.7211578 (55)\ttotal: 6.39s\tremaining: 4.44s\n",
      "59:\ttest: 0.7207308\tbest: 0.7211578 (55)\ttotal: 6.48s\tremaining: 4.32s\n",
      "60:\ttest: 0.7207286\tbest: 0.7211578 (55)\ttotal: 6.5s\tremaining: 4.16s\n",
      "61:\ttest: 0.7206142\tbest: 0.7211578 (55)\ttotal: 6.68s\tremaining: 4.09s\n",
      "62:\ttest: 0.7202840\tbest: 0.7211578 (55)\ttotal: 6.7s\tremaining: 3.94s\n",
      "63:\ttest: 0.7202648\tbest: 0.7211578 (55)\ttotal: 6.8s\tremaining: 3.82s\n",
      "64:\ttest: 0.7218378\tbest: 0.7218378 (64)\ttotal: 6.98s\tremaining: 3.76s\n",
      "65:\ttest: 0.7226295\tbest: 0.7226295 (65)\ttotal: 7.09s\tremaining: 3.65s\n",
      "66:\ttest: 0.7235984\tbest: 0.7235984 (66)\ttotal: 7.2s\tremaining: 3.54s\n",
      "67:\ttest: 0.7235699\tbest: 0.7235984 (66)\ttotal: 7.28s\tremaining: 3.43s\n",
      "68:\ttest: 0.7231495\tbest: 0.7235984 (66)\ttotal: 7.37s\tremaining: 3.31s\n",
      "69:\ttest: 0.7229113\tbest: 0.7235984 (66)\ttotal: 7.39s\tremaining: 3.17s\n",
      "70:\ttest: 0.7232155\tbest: 0.7235984 (66)\ttotal: 7.5s\tremaining: 3.06s\n",
      "71:\ttest: 0.7237636\tbest: 0.7237636 (71)\ttotal: 7.67s\tremaining: 2.98s\n",
      "72:\ttest: 0.7237881\tbest: 0.7237881 (72)\ttotal: 7.88s\tremaining: 2.92s\n",
      "73:\ttest: 0.7240042\tbest: 0.7240042 (73)\ttotal: 8s\tremaining: 2.81s\n",
      "74:\ttest: 0.7249144\tbest: 0.7249144 (74)\ttotal: 8.17s\tremaining: 2.72s\n",
      "75:\ttest: 0.7254212\tbest: 0.7254212 (75)\ttotal: 8.28s\tremaining: 2.62s\n",
      "76:\ttest: 0.7253755\tbest: 0.7254212 (75)\ttotal: 8.37s\tremaining: 2.5s\n",
      "77:\ttest: 0.7254002\tbest: 0.7254212 (75)\ttotal: 8.39s\tremaining: 2.37s\n",
      "78:\ttest: 0.7253395\tbest: 0.7254212 (75)\ttotal: 8.49s\tremaining: 2.26s\n",
      "79:\ttest: 0.7249857\tbest: 0.7254212 (75)\ttotal: 8.58s\tremaining: 2.14s\n",
      "80:\ttest: 0.7250249\tbest: 0.7254212 (75)\ttotal: 8.68s\tremaining: 2.04s\n",
      "81:\ttest: 0.7256577\tbest: 0.7256577 (81)\ttotal: 8.79s\tremaining: 1.93s\n",
      "82:\ttest: 0.7262089\tbest: 0.7262089 (82)\ttotal: 8.87s\tremaining: 1.82s\n",
      "83:\ttest: 0.7262468\tbest: 0.7262468 (83)\ttotal: 8.89s\tremaining: 1.69s\n",
      "84:\ttest: 0.7261389\tbest: 0.7262468 (83)\ttotal: 8.99s\tremaining: 1.59s\n",
      "85:\ttest: 0.7260962\tbest: 0.7262468 (83)\ttotal: 9.09s\tremaining: 1.48s\n",
      "86:\ttest: 0.7263177\tbest: 0.7263177 (86)\ttotal: 9.26s\tremaining: 1.38s\n",
      "87:\ttest: 0.7260608\tbest: 0.7263177 (86)\ttotal: 9.36s\tremaining: 1.28s\n",
      "88:\ttest: 0.7267700\tbest: 0.7267700 (88)\ttotal: 9.47s\tremaining: 1.17s\n",
      "89:\ttest: 0.7270937\tbest: 0.7270937 (89)\ttotal: 9.58s\tremaining: 1.06s\n",
      "90:\ttest: 0.7276324\tbest: 0.7276324 (90)\ttotal: 9.69s\tremaining: 958ms\n",
      "91:\ttest: 0.7276227\tbest: 0.7276324 (90)\ttotal: 9.77s\tremaining: 850ms\n",
      "92:\ttest: 0.7280358\tbest: 0.7280358 (92)\ttotal: 9.88s\tremaining: 744ms\n",
      "93:\ttest: 0.7281117\tbest: 0.7281117 (93)\ttotal: 9.98s\tremaining: 637ms\n",
      "94:\ttest: 0.7287657\tbest: 0.7287657 (94)\ttotal: 10.2s\tremaining: 535ms\n",
      "95:\ttest: 0.7291330\tbest: 0.7291330 (95)\ttotal: 10.3s\tremaining: 428ms\n",
      "96:\ttest: 0.7294078\tbest: 0.7294078 (96)\ttotal: 10.4s\tremaining: 321ms\n",
      "97:\ttest: 0.7293919\tbest: 0.7294078 (96)\ttotal: 10.5s\tremaining: 214ms\n",
      "98:\ttest: 0.7294245\tbest: 0.7294245 (98)\ttotal: 10.6s\tremaining: 107ms\n",
      "99:\ttest: 0.7297208\tbest: 0.7297208 (99)\ttotal: 10.7s\tremaining: 0us\n",
      "\n",
      "bestTest = 0.729720824\n",
      "bestIteration = 99\n",
      "\n"
     ]
    },
    {
     "data": {
      "text/plain": [
       "<catboost.core.CatBoostClassifier at 0x7fd8d4e1bc90>"
      ]
     },
     "execution_count": null,
     "metadata": {},
     "output_type": "execute_result"
    }
   ],
   "source": [
    "model.fit(train,label_data.values[:,1],use_best_model=True,eval_set=eval_set, cat_features=cat_features)"
   ]
  },
  {
   "cell_type": "code",
   "execution_count": null,
   "metadata": {
    "collapsed": false
   },
   "outputs": [
    {
     "data": {
      "text/plain": [
       "{'learn': {'Logloss': 0.4507086915475451},\n",
       " 'validation': {'Logloss': 0.4461290284739399, 'AUC': 0.7297208240177854}}"
      ]
     },
     "execution_count": null,
     "metadata": {},
     "output_type": "execute_result"
    }
   ],
   "source": [
    "model.best_score_"
   ]
  },
  {
   "cell_type": "code",
   "execution_count": null,
   "metadata": {
    "collapsed": false
   },
   "outputs": [
    {
     "data": {
      "text/plain": [
       "0.8525890092757737"
      ]
     },
     "execution_count": null,
     "metadata": {},
     "output_type": "execute_result"
    }
   ],
   "source": [
    "roc_auc_score(valid_y,model.predict_proba(valid_x)[:,1])"
   ]
  },
  {
   "cell_type": "code",
   "execution_count": null,
   "metadata": {
    "collapsed": false
   },
   "outputs": [],
   "source": [
    "submit['label'] = best_result\r\n",
    "submit.to_csv('result_'+time.strftime('%Y%m%d%H%M%S.csv',time.localtime(time.time())),index=False)"
   ]
  },
  {
   "cell_type": "code",
   "execution_count": null,
   "metadata": {
    "collapsed": false
   },
   "outputs": [],
   "source": []
  }
 ],
 "metadata": {
  "kernelspec": {
   "display_name": "PaddlePaddle 1.6.0 (Python 3.5)",
   "language": "python",
   "name": "py35-paddle1.2.0"
  },
  "language_info": {
   "codemirror_mode": {
    "name": "ipython",
    "version": 3
   },
   "file_extension": ".py",
   "mimetype": "text/x-python",
   "name": "python",
   "nbconvert_exporter": "python",
   "pygments_lexer": "ipython3",
   "version": "3.7.4"
  }
 },
 "nbformat": 4,
 "nbformat_minor": 1
}
